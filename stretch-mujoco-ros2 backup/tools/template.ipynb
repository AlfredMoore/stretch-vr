{
 "cells": [
  {
   "cell_type": "code",
   "execution_count": 1,
   "metadata": {},
   "outputs": [],
   "source": [
    "from stretch_mujoco import StretchMujocoSimulator"
   ]
  },
  {
   "cell_type": "code",
   "execution_count": 2,
   "metadata": {},
   "outputs": [
    {
     "name": "stdout",
     "output_type": "stream",
     "text": [
      "robocasa_gen.py  scene.xml  template.ipynb\n"
     ]
    }
   ],
   "source": [
    "!ls"
   ]
  },
  {
   "cell_type": "code",
   "execution_count": 3,
   "metadata": {},
   "outputs": [
    {
     "name": "stdout",
     "output_type": "stream",
     "text": [
      "\u001b[32mStarting Stretch Mujoco Simulator...\u001b[0m\n"
     ]
    }
   ],
   "source": [
    "robot_sim = StretchMujocoSimulator('./scene.xml')\n",
    "robot_sim.start() # This will start the simulation and open Mujoco-Viewer window"
   ]
  },
  {
   "cell_type": "code",
   "execution_count": 4,
   "metadata": {},
   "outputs": [],
   "source": [
    "robot_sim.home()"
   ]
  },
  {
   "cell_type": "code",
   "execution_count": 7,
   "metadata": {},
   "outputs": [],
   "source": [
    "robot_sim.stow()"
   ]
  },
  {
   "cell_type": "code",
   "execution_count": 6,
   "metadata": {},
   "outputs": [],
   "source": [
    "robot_sim.move_to('lift',0.6)"
   ]
  },
  {
   "cell_type": "code",
   "execution_count": null,
   "metadata": {},
   "outputs": [],
   "source": [
    "robot_sim.move_by('head_pan',0.1)"
   ]
  },
  {
   "cell_type": "code",
   "execution_count": 47,
   "metadata": {},
   "outputs": [],
   "source": [
    "robot_sim.move_to('head_pan',1)"
   ]
  },
  {
   "cell_type": "code",
   "execution_count": 60,
   "metadata": {},
   "outputs": [
    {
     "name": "stdout",
     "output_type": "stream",
     "text": [
      "{'time': 399.22800000117815, 'base': {'x_vel': -0.0002880823899751, 'theta_vel': 0.00012549348112596918, 'x': 1.84740405796101, 'y': -0.8081533126465191, 'theta': 0.928941399658976}, 'lift': {'pos': 0.5926575914145121, 'vel': 6.360570883767828e-06}, 'arm': {'pos': -4.409487357023641e-08, 'vel': 2.6518291650685e-13}, 'head_pan': {'pos': 0.9999856597818266, 'vel': 3.807611662705802e-14}, 'head_tilt': {'pos': -0.00453184754740939, 'vel': -4.737437767057481e-13}, 'wrist_yaw': {'pos': 3.1399515141862735, 'vel': 6.003726394275288e-10}, 'wrist_pitch': {'pos': -0.4057632441760963, 'vel': -6.982431475766489e-11}, 'wrist_roll': {'pos': -2.8563011954993755e-05, 'vel': 1.3493996722994289e-12}, 'gripper': {'pos': -0.06392970348991295, 'vel': 2.120272638298973e-12}}\n",
      "-0.0002880823899751\n"
     ]
    },
    {
     "ename": "KeyError",
     "evalue": "'y_vel'",
     "output_type": "error",
     "traceback": [
      "\u001b[0;31m---------------------------------------------------------------------------\u001b[0m",
      "\u001b[0;31mKeyError\u001b[0m                                  Traceback (most recent call last)",
      "Cell \u001b[0;32mIn[60], line 4\u001b[0m\n\u001b[1;32m      2\u001b[0m \u001b[38;5;28mprint\u001b[39m(robot_sim\u001b[38;5;241m.\u001b[39mstatus)\n\u001b[1;32m      3\u001b[0m \u001b[38;5;28mprint\u001b[39m(robot_sim\u001b[38;5;241m.\u001b[39mstatus[\u001b[38;5;124m'\u001b[39m\u001b[38;5;124mbase\u001b[39m\u001b[38;5;124m'\u001b[39m][\u001b[38;5;124m'\u001b[39m\u001b[38;5;124mx_vel\u001b[39m\u001b[38;5;124m'\u001b[39m])\n\u001b[0;32m----> 4\u001b[0m \u001b[38;5;28mprint\u001b[39m(\u001b[43mrobot_sim\u001b[49m\u001b[38;5;241;43m.\u001b[39;49m\u001b[43mstatus\u001b[49m\u001b[43m[\u001b[49m\u001b[38;5;124;43m'\u001b[39;49m\u001b[38;5;124;43mbase\u001b[39;49m\u001b[38;5;124;43m'\u001b[39;49m\u001b[43m]\u001b[49m\u001b[43m[\u001b[49m\u001b[38;5;124;43m'\u001b[39;49m\u001b[38;5;124;43my_vel\u001b[39;49m\u001b[38;5;124;43m'\u001b[39;49m\u001b[43m]\u001b[49m)\n",
      "\u001b[0;31mKeyError\u001b[0m: 'y_vel'"
     ]
    }
   ],
   "source": [
    "robot_sim.set_base_velocity(0.3,-0.1)\n",
    "print(robot_sim.status)\n",
    "print(robot_sim.status['base']['x_vel'])\n",
    "print(robot_sim.status['base']['y_vel'])"
   ]
  },
  {
   "cell_type": "code",
   "execution_count": null,
   "metadata": {},
   "outputs": [],
   "source": [
    "for key, value in robot_sim.status.items():\n",
    "    print(key, value)"
   ]
  },
  {
   "cell_type": "code",
   "execution_count": 73,
   "metadata": {},
   "outputs": [
    {
     "name": "stdout",
     "output_type": "stream",
     "text": [
      "{'time': 552.8200000007513, 'base': {'x_vel': -0.00014111045884887064, 'theta_vel': 8.652613468274275e-05, 'x': 2.3388894422786204, 'y': -2.3537408270386044, 'theta': 2.1007344661914575}, 'lift': {'pos': 0.5926086705656507, 'vel': 1.133904998020198e-05}, 'arm': {'pos': -5.6314825380810785e-08, 'vel': 3.582681674266703e-13}, 'head_pan': {'pos': 0.9999855825897105, 'vel': 2.143773837269246e-14}, 'head_tilt': {'pos': -0.004531746616039468, 'vel': -7.097752409916371e-16}, 'wrist_yaw': {'pos': 3.139950864928586, 'vel': 2.7194159950273715e-07}, 'wrist_pitch': {'pos': -0.4057632431940248, 'vel': -1.2658270514736033e-10}, 'wrist_roll': {'pos': -2.838964472378407e-05, 'vel': -1.6152187015938104e-10}, 'gripper': {'pos': -0.06392970937362652, 'vel': 1.8320217000330633e-12}}\n"
     ]
    }
   ],
   "source": [
    "robot_sim.set_base_velocity(0.3,-0.5)\n",
    "print(robot_sim.status)"
   ]
  },
  {
   "cell_type": "code",
   "execution_count": 74,
   "metadata": {},
   "outputs": [
    {
     "name": "stdout",
     "output_type": "stream",
     "text": [
      "{'time': 558.1960000006242, 'base': {'x_vel': 0.23294184146053187, 'theta_vel': -0.2629864017362324, 'x': 2.2162868959466047, 'y': -1.9682441738519516, 'theta': 1.650390092537311}, 'lift': {'pos': 0.5929538539193508, 'vel': 5.137268425460806e-05}, 'arm': {'pos': 1.5467942925209012e-05, 'vel': -0.00024388279081757623}, 'head_pan': {'pos': 0.9999783827010986, 'vel': -0.00011176067681629279}, 'head_tilt': {'pos': -0.004521654814010924, 'vel': 0.0018238875353047196}, 'wrist_yaw': {'pos': 3.1400717794931245, 'vel': -0.0003262002963338213}, 'wrist_pitch': {'pos': -0.40575892729566604, 'vel': -9.35991813917943e-05}, 'wrist_roll': {'pos': -2.8959937524016375e-05, 'vel': 0.00020276340019573534}, 'gripper': {'pos': -0.06392185913511256, 'vel': 5.168527459368265e-06}}\n"
     ]
    }
   ],
   "source": [
    "robot_sim.set_base_velocity(0.0,0.0)\n",
    "print(robot_sim.status)"
   ]
  },
  {
   "cell_type": "code",
   "execution_count": 75,
   "metadata": {},
   "outputs": [
    {
     "name": "stdout",
     "output_type": "stream",
     "text": [
      "{'time': 560.9140000005599, 'cam_d405_rgb': array([[[255, 255, 255],\n",
      "        [255, 255, 255],\n",
      "        [255, 255, 255],\n",
      "        ...,\n",
      "        [173, 165, 147],\n",
      "        [171, 163, 144],\n",
      "        [168, 160, 141]],\n",
      "\n",
      "       [[255, 255, 255],\n",
      "        [255, 255, 255],\n",
      "        [255, 255, 255],\n",
      "        ...,\n",
      "        [165, 158, 141],\n",
      "        [158, 147, 130],\n",
      "        [140, 124, 111]],\n",
      "\n",
      "       [[255, 255, 255],\n",
      "        [255, 255, 255],\n",
      "        [255, 255, 255],\n",
      "        ...,\n",
      "        [161, 152, 136],\n",
      "        [142, 120, 105],\n",
      "        [126,  96,  83]],\n",
      "\n",
      "       ...,\n",
      "\n",
      "       [[100,  97,  93],\n",
      "        [102,  99,  96],\n",
      "        [ 96,  93,  91],\n",
      "        ...,\n",
      "        [ 92,  89,  87],\n",
      "        [ 91,  88,  86],\n",
      "        [ 86,  84,  81]],\n",
      "\n",
      "       [[ 98,  95,  92],\n",
      "        [ 95,  92,  90],\n",
      "        [ 95,  92,  90],\n",
      "        ...,\n",
      "        [ 92,  90,  87],\n",
      "        [ 93,  90,  87],\n",
      "        [ 92,  89,  87]],\n",
      "\n",
      "       [[ 94,  91,  89],\n",
      "        [ 90,  87,  85],\n",
      "        [ 94,  91,  89],\n",
      "        ...,\n",
      "        [ 92,  89,  86],\n",
      "        [ 93,  90,  87],\n",
      "        [ 90,  87,  85]]], dtype=uint8), 'cam_d405_depth': array([[0.        , 0.        , 0.        , ..., 0.        , 0.        ,\n",
      "        0.        ],\n",
      "       [0.        , 0.        , 0.        , ..., 0.        , 0.        ,\n",
      "        0.        ],\n",
      "       [0.        , 0.        , 0.        , ..., 0.        , 0.        ,\n",
      "        0.        ],\n",
      "       ...,\n",
      "       [0.777262  , 0.77725804, 0.77725405, ..., 0.7747519 , 0.77474797,\n",
      "        0.7747441 ],\n",
      "       [0.7759144 , 0.7759105 , 0.7759065 , ..., 0.773413  , 0.77340907,\n",
      "        0.7734052 ],\n",
      "       [0.77457136, 0.7745675 , 0.77456355, ..., 0.77207863, 0.7720747 ,\n",
      "        0.7720709 ]], dtype=float32), 'cam_d405_K': array([[514.68166092,   0.        , 320.        ],\n",
      "       [  0.        , 514.68166092, 240.        ],\n",
      "       [  0.        ,   0.        ,   1.        ]]), 'cam_d435i_rgb': array([[[117,  81,  67],\n",
      "        [122,  89,  75],\n",
      "        [114,  85,  72],\n",
      "        ...,\n",
      "        [ 48,  51,  54],\n",
      "        [ 48,  51,  54],\n",
      "        [ 48,  51,  54]],\n",
      "\n",
      "       [[116,  80,  65],\n",
      "        [119,  83,  69],\n",
      "        [117,  83,  70],\n",
      "        ...,\n",
      "        [ 48,  51,  54],\n",
      "        [ 48,  51,  55],\n",
      "        [ 48,  51,  55]],\n",
      "\n",
      "       [[121,  89,  73],\n",
      "        [118,  82,  67],\n",
      "        [116,  82,  69],\n",
      "        ...,\n",
      "        [ 48,  51,  54],\n",
      "        [ 48,  51,  55],\n",
      "        [ 48,  51,  54]],\n",
      "\n",
      "       ...,\n",
      "\n",
      "       [[124,  85,  71],\n",
      "        [121,  82,  68],\n",
      "        [126,  96,  80],\n",
      "        ...,\n",
      "        [ 63,  61,  57],\n",
      "        [ 64,  62,  58],\n",
      "        [ 64,  62,  58]],\n",
      "\n",
      "       [[117,  78,  67],\n",
      "        [125,  81,  68],\n",
      "        [128,  95,  79],\n",
      "        ...,\n",
      "        [ 61,  60,  56],\n",
      "        [ 63,  61,  56],\n",
      "        [ 62,  61,  56]],\n",
      "\n",
      "       [[116,  79,  67],\n",
      "        [124,  83,  69],\n",
      "        [133, 105,  90],\n",
      "        ...,\n",
      "        [ 59,  58,  53],\n",
      "        [ 61,  59,  55],\n",
      "        [ 61,  59,  55]]], dtype=uint8), 'cam_d435i_depth': array([[1.9355612, 1.9355825, 1.9356039, ..., 1.3611271, 1.3611424,\n",
      "        1.3611575],\n",
      "       [1.9398445, 1.9398661, 1.9398876, ..., 1.3641609, 1.364176 ,\n",
      "        1.3641913],\n",
      "       [1.944147 , 1.9441687, 1.9441903, ..., 1.367208 , 1.3672233,\n",
      "        1.3672386],\n",
      "       ...,\n",
      "       [1.8724667, 1.8724827, 1.8724985, ..., 1.6529158, 1.6477544,\n",
      "        1.6426251],\n",
      "       [1.870584 , 1.8705999, 1.8706157, ..., 1.6529264, 1.6477652,\n",
      "        1.6426357],\n",
      "       [1.868705 , 1.868721 , 1.8687367, ..., 1.6529369, 1.6477755,\n",
      "        1.6426461]], dtype=float32), 'cam_d435i_K': array([[399.42707576,   0.        , 320.        ],\n",
      "       [  0.        , 399.42707576, 240.        ],\n",
      "       [  0.        ,   0.        ,   1.        ]]), 'cam_nav_rgb': array([[[176, 165, 149],\n",
      "        [164, 149, 134],\n",
      "        [147, 112,  94],\n",
      "        ...,\n",
      "        [ 49,  53,  56],\n",
      "        [ 49,  53,  56],\n",
      "        [ 50,  53,  56]],\n",
      "\n",
      "       [[176, 169, 152],\n",
      "        [167, 153, 138],\n",
      "        [147, 115,  96],\n",
      "        ...,\n",
      "        [ 49,  53,  56],\n",
      "        [ 49,  53,  56],\n",
      "        [ 49,  53,  56]],\n",
      "\n",
      "       [[178, 171, 155],\n",
      "        [172, 162, 147],\n",
      "        [153, 128, 111],\n",
      "        ...,\n",
      "        [ 49,  52,  56],\n",
      "        [ 49,  53,  56],\n",
      "        [ 49,  53,  56]],\n",
      "\n",
      "       ...,\n",
      "\n",
      "       [[160, 142, 123],\n",
      "        [164, 149, 130],\n",
      "        [165, 153, 133],\n",
      "        ...,\n",
      "        [ 49,  52,  55],\n",
      "        [ 49,  52,  55],\n",
      "        [ 49,  52,  55]],\n",
      "\n",
      "       [[166, 155, 135],\n",
      "        [168, 156, 138],\n",
      "        [161, 145, 129],\n",
      "        ...,\n",
      "        [ 49,  52,  55],\n",
      "        [ 49,  52,  55],\n",
      "        [ 49,  52,  55]],\n",
      "\n",
      "       [[151, 128, 111],\n",
      "        [142, 114,  98],\n",
      "        [148, 113,  96],\n",
      "        ...,\n",
      "        [ 49,  52,  55],\n",
      "        [ 49,  52,  55],\n",
      "        [ 49,  52,  55]]], dtype=uint8)}\n"
     ]
    }
   ],
   "source": [
    "camera_data = robot_sim.pull_camera_data()\n",
    "print(camera_data)"
   ]
  },
  {
   "cell_type": "code",
   "execution_count": null,
   "metadata": {},
   "outputs": [],
   "source": [
    "robot_sim.stop()"
   ]
  },
  {
   "cell_type": "code",
   "execution_count": null,
   "metadata": {},
   "outputs": [],
   "source": [
    "from stretch_mujoco import StretchMujocoSimulator\n",
    "from stretch_mujoco.robocasa_gen import model_generation_wizard\n",
    "model, xml = model_generation_wizard(\n",
    "    task=task_name,\n",
    "    layout=layout_id,\n",
    "    style=style_id,\n",
    "    wrtie_to_file=filename,\n",
    ")\n",
    "robot_sim = StretchMujocoSimulator(model=model)\n",
    "robot_sim.start()"
   ]
  }
 ],
 "metadata": {
  "kernelspec": {
   "display_name": "Python 3",
   "language": "python",
   "name": "python3"
  },
  "language_info": {
   "codemirror_mode": {
    "name": "ipython",
    "version": 3
   },
   "file_extension": ".py",
   "mimetype": "text/x-python",
   "name": "python",
   "nbconvert_exporter": "python",
   "pygments_lexer": "ipython3",
   "version": "3.10.12"
  }
 },
 "nbformat": 4,
 "nbformat_minor": 2
}
